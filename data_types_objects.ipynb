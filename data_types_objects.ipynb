{
 "cells": [
  {
   "cell_type": "code",
   "execution_count": 1,
   "id": "c5a4683a",
   "metadata": {},
   "outputs": [
    {
     "data": {
      "text/plain": [
       "-5"
      ]
     },
     "execution_count": 1,
     "metadata": {},
     "output_type": "execute_result"
    }
   ],
   "source": [
    "#numbers and types\n",
    "1\n",
    "1.2\n",
    "3.0\n",
    "-5"
   ]
  },
  {
   "cell_type": "code",
   "execution_count": 2,
   "id": "43e7952e",
   "metadata": {},
   "outputs": [],
   "source": [
    "#operations "
   ]
  },
  {
   "cell_type": "code",
   "execution_count": 3,
   "id": "83e90234",
   "metadata": {},
   "outputs": [
    {
     "data": {
      "text/plain": [
       "10"
      ]
     },
     "execution_count": 3,
     "metadata": {},
     "output_type": "execute_result"
    }
   ],
   "source": [
    "5+5"
   ]
  },
  {
   "cell_type": "code",
   "execution_count": 4,
   "id": "ff3b7e03",
   "metadata": {},
   "outputs": [
    {
     "data": {
      "text/plain": [
       "0"
      ]
     },
     "execution_count": 4,
     "metadata": {},
     "output_type": "execute_result"
    }
   ],
   "source": [
    "10%2"
   ]
  },
  {
   "cell_type": "code",
   "execution_count": 5,
   "id": "bf554ae7",
   "metadata": {},
   "outputs": [
    {
     "data": {
      "text/plain": [
       "25"
      ]
     },
     "execution_count": 5,
     "metadata": {},
     "output_type": "execute_result"
    }
   ],
   "source": [
    "5**2"
   ]
  },
  {
   "cell_type": "code",
   "execution_count": 6,
   "id": "999937fd",
   "metadata": {},
   "outputs": [],
   "source": [
    "#the above was exponential + Modula "
   ]
  },
  {
   "cell_type": "code",
   "execution_count": 8,
   "id": "fcfb947c",
   "metadata": {},
   "outputs": [],
   "source": [
    "#The following are variable declations \n",
    "x=5\n",
    "comp=2"
   ]
  },
  {
   "cell_type": "code",
   "execution_count": 10,
   "id": "b1e8dd38",
   "metadata": {},
   "outputs": [],
   "source": [
    "comp=7.2"
   ]
  },
  {
   "cell_type": "code",
   "execution_count": 17,
   "id": "805218bb",
   "metadata": {},
   "outputs": [
    {
     "name": "stdout",
     "output_type": "stream",
     "text": [
      "7.2\n"
     ]
    }
   ],
   "source": [
    "print (comp)"
   ]
  },
  {
   "cell_type": "code",
   "execution_count": 6,
   "id": "f3b5486a",
   "metadata": {},
   "outputs": [],
   "source": [
    "test=1"
   ]
  },
  {
   "cell_type": "code",
   "execution_count": 7,
   "id": "dcb1fc40",
   "metadata": {},
   "outputs": [
    {
     "name": "stdout",
     "output_type": "stream",
     "text": [
      "1\n"
     ]
    }
   ],
   "source": [
    "print (test)"
   ]
  },
  {
   "cell_type": "code",
   "execution_count": 8,
   "id": "b87e9311",
   "metadata": {},
   "outputs": [],
   "source": [
    "my_cats=['leo','billie']"
   ]
  },
  {
   "cell_type": "code",
   "execution_count": 9,
   "id": "cf4d5735",
   "metadata": {},
   "outputs": [
    {
     "data": {
      "text/plain": [
       "['leo', 'billie']"
      ]
     },
     "execution_count": 9,
     "metadata": {},
     "output_type": "execute_result"
    }
   ],
   "source": [
    "my_cats"
   ]
  },
  {
   "cell_type": "code",
   "execution_count": 10,
   "id": "d6a5e15a",
   "metadata": {},
   "outputs": [],
   "source": [
    "x=3"
   ]
  },
  {
   "cell_type": "code",
   "execution_count": 11,
   "id": "4563ecfe",
   "metadata": {},
   "outputs": [],
   "source": [
    "x=x+9"
   ]
  },
  {
   "cell_type": "code",
   "execution_count": 12,
   "id": "69ab94e2",
   "metadata": {},
   "outputs": [
    {
     "name": "stdout",
     "output_type": "stream",
     "text": [
      "12\n"
     ]
    }
   ],
   "source": [
    "print (x)"
   ]
  },
  {
   "cell_type": "code",
   "execution_count": 13,
   "id": "197230f0",
   "metadata": {},
   "outputs": [],
   "source": [
    "#strings"
   ]
  },
  {
   "cell_type": "code",
   "execution_count": 14,
   "id": "f81c22e9",
   "metadata": {},
   "outputs": [
    {
     "data": {
      "text/plain": [
       "'this is a strong world'"
      ]
     },
     "execution_count": 14,
     "metadata": {},
     "output_type": "execute_result"
    }
   ],
   "source": [
    "\"this is a strong world\""
   ]
  },
  {
   "cell_type": "code",
   "execution_count": 15,
   "id": "15b073f1",
   "metadata": {},
   "outputs": [
    {
     "data": {
      "text/plain": [
       "\"this is mommi's computer\""
      ]
     },
     "execution_count": 15,
     "metadata": {},
     "output_type": "execute_result"
    }
   ],
   "source": [
    "\"this is mommi's computer\""
   ]
  },
  {
   "cell_type": "code",
   "execution_count": 16,
   "id": "7e3a0ce4",
   "metadata": {},
   "outputs": [],
   "source": [
    "first_string = \"hello\""
   ]
  },
  {
   "cell_type": "code",
   "execution_count": 17,
   "id": "9a6c6fbd",
   "metadata": {},
   "outputs": [
    {
     "data": {
      "text/plain": [
       "'e'"
      ]
     },
     "execution_count": 17,
     "metadata": {},
     "output_type": "execute_result"
    }
   ],
   "source": [
    "first_string[1]"
   ]
  },
  {
   "cell_type": "code",
   "execution_count": 18,
   "id": "f4de3285",
   "metadata": {},
   "outputs": [
    {
     "data": {
      "text/plain": [
       "'ello'"
      ]
     },
     "execution_count": 18,
     "metadata": {},
     "output_type": "execute_result"
    }
   ],
   "source": [
    "first_string[1:]"
   ]
  },
  {
   "cell_type": "code",
   "execution_count": 20,
   "id": "76b65d7a",
   "metadata": {},
   "outputs": [
    {
     "data": {
      "text/plain": [
       "'hel'"
      ]
     },
     "execution_count": 20,
     "metadata": {},
     "output_type": "execute_result"
    }
   ],
   "source": [
    "first_string[:3]"
   ]
  },
  {
   "cell_type": "code",
   "execution_count": 21,
   "id": "f0c3ec97",
   "metadata": {},
   "outputs": [
    {
     "data": {
      "text/plain": [
       "'llo'"
      ]
     },
     "execution_count": 21,
     "metadata": {},
     "output_type": "execute_result"
    }
   ],
   "source": [
    "first_string[2:]\n"
   ]
  },
  {
   "cell_type": "code",
   "execution_count": 22,
   "id": "d5350bce",
   "metadata": {},
   "outputs": [
    {
     "data": {
      "text/plain": [
       "'hlo'"
      ]
     },
     "execution_count": 22,
     "metadata": {},
     "output_type": "execute_result"
    }
   ],
   "source": [
    "first_string[::2]"
   ]
  },
  {
   "cell_type": "code",
   "execution_count": 23,
   "id": "24aedf20",
   "metadata": {},
   "outputs": [
    {
     "data": {
      "text/plain": [
       "'lo'"
      ]
     },
     "execution_count": 23,
     "metadata": {},
     "output_type": "execute_result"
    }
   ],
   "source": [
    "first_string[2::2]"
   ]
  },
  {
   "cell_type": "code",
   "execution_count": 24,
   "id": "42998e01",
   "metadata": {},
   "outputs": [
    {
     "data": {
      "text/plain": [
       "<function str.upper()>"
      ]
     },
     "execution_count": 24,
     "metadata": {},
     "output_type": "execute_result"
    }
   ],
   "source": [
    "first_string.upper"
   ]
  },
  {
   "cell_type": "code",
   "execution_count": 25,
   "id": "58dad912",
   "metadata": {},
   "outputs": [
    {
     "data": {
      "text/plain": [
       "'HELLO'"
      ]
     },
     "execution_count": 25,
     "metadata": {},
     "output_type": "execute_result"
    }
   ],
   "source": [
    "first_string.upper()"
   ]
  },
  {
   "cell_type": "code",
   "execution_count": 27,
   "id": "b9189b3e",
   "metadata": {},
   "outputs": [],
   "source": [
    "cat_names=['cat1','cat2','cat3']"
   ]
  },
  {
   "cell_type": "code",
   "execution_count": 28,
   "id": "25130929",
   "metadata": {},
   "outputs": [
    {
     "ename": "AttributeError",
     "evalue": "'list' object has no attribute 'split'",
     "output_type": "error",
     "traceback": [
      "\u001b[1;31m---------------------------------------------------------------------------\u001b[0m",
      "\u001b[1;31mAttributeError\u001b[0m                            Traceback (most recent call last)",
      "Input \u001b[1;32mIn [28]\u001b[0m, in \u001b[0;36m<cell line: 1>\u001b[1;34m()\u001b[0m\n\u001b[1;32m----> 1\u001b[0m \u001b[43mcat_names\u001b[49m\u001b[38;5;241;43m.\u001b[39;49m\u001b[43msplit\u001b[49m()\n",
      "\u001b[1;31mAttributeError\u001b[0m: 'list' object has no attribute 'split'"
     ]
    }
   ],
   "source": [
    "cat_names.split()"
   ]
  },
  {
   "cell_type": "code",
   "execution_count": 29,
   "id": "c092ab56",
   "metadata": {},
   "outputs": [
    {
     "data": {
      "text/plain": [
       "['cat1', 'cat2', 'cat3']"
      ]
     },
     "execution_count": 29,
     "metadata": {},
     "output_type": "execute_result"
    }
   ],
   "source": [
    "cat_names"
   ]
  },
  {
   "cell_type": "code",
   "execution_count": 30,
   "id": "74839b92",
   "metadata": {},
   "outputs": [
    {
     "data": {
      "text/plain": [
       "['hello']"
      ]
     },
     "execution_count": 30,
     "metadata": {},
     "output_type": "execute_result"
    }
   ],
   "source": [
    "first_string.split()"
   ]
  },
  {
   "cell_type": "code",
   "execution_count": 31,
   "id": "5fb35e54",
   "metadata": {},
   "outputs": [
    {
     "ename": "NameError",
     "evalue": "name 'e' is not defined",
     "output_type": "error",
     "traceback": [
      "\u001b[1;31m---------------------------------------------------------------------------\u001b[0m",
      "\u001b[1;31mNameError\u001b[0m                                 Traceback (most recent call last)",
      "Input \u001b[1;32mIn [31]\u001b[0m, in \u001b[0;36m<cell line: 1>\u001b[1;34m()\u001b[0m\n\u001b[1;32m----> 1\u001b[0m first_string\u001b[38;5;241m.\u001b[39msplit(\u001b[43me\u001b[49m)\n",
      "\u001b[1;31mNameError\u001b[0m: name 'e' is not defined"
     ]
    }
   ],
   "source": [
    "first_string.split(e)"
   ]
  },
  {
   "cell_type": "code",
   "execution_count": 32,
   "id": "15530a50",
   "metadata": {},
   "outputs": [
    {
     "data": {
      "text/plain": [
       "['h', 'llo']"
      ]
     },
     "execution_count": 32,
     "metadata": {},
     "output_type": "execute_result"
    }
   ],
   "source": [
    "first_string.split('e')"
   ]
  },
  {
   "cell_type": "code",
   "execution_count": 34,
   "id": "6350aecb",
   "metadata": {},
   "outputs": [
    {
     "data": {
      "text/plain": [
       "'This right here is my swag'"
      ]
     },
     "execution_count": 34,
     "metadata": {},
     "output_type": "execute_result"
    }
   ],
   "source": [
    "'This right here is my {}'.format('swag')"
   ]
  },
  {
   "cell_type": "code",
   "execution_count": 35,
   "id": "827c07d1",
   "metadata": {},
   "outputs": [
    {
     "data": {
      "text/plain": [
       "'This right here is my swag'"
      ]
     },
     "execution_count": 35,
     "metadata": {},
     "output_type": "execute_result"
    }
   ],
   "source": [
    "swag=\"swag\"\n",
    "'This right here is my {}'.format(swag)"
   ]
  },
  {
   "cell_type": "code",
   "execution_count": 37,
   "id": "6b91b275",
   "metadata": {},
   "outputs": [
    {
     "ename": "SyntaxError",
     "evalue": "positional argument follows keyword argument (1942535918.py, line 1)",
     "output_type": "error",
     "traceback": [
      "\u001b[1;36m  Input \u001b[1;32mIn [37]\u001b[1;36m\u001b[0m\n\u001b[1;33m    print('This is to test object {0} object {2} and object {num}'.format('string', num=3,3))\u001b[0m\n\u001b[1;37m                                                                                           ^\u001b[0m\n\u001b[1;31mSyntaxError\u001b[0m\u001b[1;31m:\u001b[0m positional argument follows keyword argument\n"
     ]
    }
   ],
   "source": [
    "print('This is to test object {0} object {2} and object {num}'.format('string', num=3,3))"
   ]
  },
  {
   "cell_type": "code",
   "execution_count": 38,
   "id": "57aad4d4",
   "metadata": {},
   "outputs": [
    {
     "ename": "SyntaxError",
     "evalue": "positional argument follows keyword argument (1942535918.py, line 1)",
     "output_type": "error",
     "traceback": [
      "\u001b[1;36m  Input \u001b[1;32mIn [38]\u001b[1;36m\u001b[0m\n\u001b[1;33m    print('This is to test object {0} object {2} and object {num}'.format('string', num=3,3))\u001b[0m\n\u001b[1;37m                                                                                           ^\u001b[0m\n\u001b[1;31mSyntaxError\u001b[0m\u001b[1;31m:\u001b[0m positional argument follows keyword argument\n"
     ]
    }
   ],
   "source": [
    "print('This is to test object {0} object {2} and object {num}'.format('string', num=3,3))"
   ]
  },
  {
   "cell_type": "code",
   "execution_count": 39,
   "id": "f44bdef4",
   "metadata": {},
   "outputs": [
    {
     "name": "stdout",
     "output_type": "stream",
     "text": [
      "This is to test object string object 3 and object three\n"
     ]
    }
   ],
   "source": [
    "print('This is to test object {0} object {num} and object {num1}'.format('string', num=3,num1='three'))"
   ]
  },
  {
   "cell_type": "code",
   "execution_count": 40,
   "id": "2389b5ee",
   "metadata": {},
   "outputs": [
    {
     "ename": "KeyError",
     "evalue": "'0,10,4'",
     "output_type": "error",
     "traceback": [
      "\u001b[1;31m---------------------------------------------------------------------------\u001b[0m",
      "\u001b[1;31mKeyError\u001b[0m                                  Traceback (most recent call last)",
      "Input \u001b[1;32mIn [40]\u001b[0m, in \u001b[0;36m<cell line: 2>\u001b[1;34m()\u001b[0m\n\u001b[0;32m      1\u001b[0m num\u001b[38;5;241m=\u001b[39m\u001b[38;5;241m3.412312413513\u001b[39m\n\u001b[1;32m----> 2\u001b[0m \u001b[38;5;28mprint\u001b[39m(\u001b[38;5;124;43m'\u001b[39;49m\u001b[38;5;124;43mThis is to test number formatting with the variable num:\u001b[39;49m\u001b[38;5;124;43m{\u001b[39;49m\u001b[38;5;124;43m0,10,4} and this number \u001b[39;49m\u001b[38;5;132;43;01m{1}\u001b[39;49;00m\u001b[38;5;124;43m'\u001b[39;49m\u001b[38;5;241;43m.\u001b[39;49m\u001b[43mformat\u001b[49m\u001b[43m(\u001b[49m\u001b[43mnum\u001b[49m\u001b[43m,\u001b[49m\u001b[38;5;241;43m2\u001b[39;49m\u001b[43m)\u001b[49m)\n",
      "\u001b[1;31mKeyError\u001b[0m: '0,10,4'"
     ]
    }
   ],
   "source": [
    "num=3.412312413513\n",
    "print('This is to test number formatting with the variable num:{0,10,4} and this number {1}'.format(num,2))"
   ]
  },
  {
   "cell_type": "code",
   "execution_count": 41,
   "id": "63a6164a",
   "metadata": {},
   "outputs": [
    {
     "data": {
      "text/plain": [
       "3.412312413513"
      ]
     },
     "execution_count": 41,
     "metadata": {},
     "output_type": "execute_result"
    }
   ],
   "source": [
    "num"
   ]
  },
  {
   "cell_type": "code",
   "execution_count": 42,
   "id": "a60c8f82",
   "metadata": {},
   "outputs": [
    {
     "name": "stdout",
     "output_type": "stream",
     "text": [
      "This is to test number formatting with the variable num:    3.4123 and this number 2\n"
     ]
    }
   ],
   "source": [
    "print('This is to test number formatting with the variable num:{0:10.4f} and this number {1}'.format(num,2))"
   ]
  },
  {
   "cell_type": "code",
   "execution_count": null,
   "id": "9df61edd",
   "metadata": {},
   "outputs": [],
   "source": []
  }
 ],
 "metadata": {
  "kernelspec": {
   "display_name": "Python 3 (ipykernel)",
   "language": "python",
   "name": "python3"
  },
  "language_info": {
   "codemirror_mode": {
    "name": "ipython",
    "version": 3
   },
   "file_extension": ".py",
   "mimetype": "text/x-python",
   "name": "python",
   "nbconvert_exporter": "python",
   "pygments_lexer": "ipython3",
   "version": "3.9.12"
  }
 },
 "nbformat": 4,
 "nbformat_minor": 5
}
